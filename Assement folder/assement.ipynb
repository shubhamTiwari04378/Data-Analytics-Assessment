{
 "cells": [
  {
   "cell_type": "markdown",
   "id": "e2822ccd-e7a6-47c8-8879-4f47f2abccf4",
   "metadata": {},
   "source": [
    "# Importing necessary libraries and dataset"
   ]
  },
  {
   "cell_type": "code",
   "execution_count": 1,
   "id": "7cd28079-de28-48c4-bb79-3783059701c7",
   "metadata": {},
   "outputs": [],
   "source": [
    "import pandas as pd\n",
    "import seaborn as sns \n",
    "import matplotlib.pyplot as plt\n",
    "file_path = r'C:\\Users\\ADMIN\\Downloads\\Assignment.xlsx'\n",
    "\n",
    "user_details = pd.read_excel(file_path, sheet_name='UserDetails.csv')\n",
    "cooking_sessions = pd.read_excel(file_path, sheet_name='CookingSessions.csv')\n",
    "order_details = pd.read_excel(file_path, sheet_name='OrderDetails.csv')"
   ]
  },
  {
   "cell_type": "markdown",
   "id": "64c2b8f8-db82-4a94-8f8b-2ca99dce03d1",
   "metadata": {},
   "source": [
    "# Displaying the first five information of all three dataset"
   ]
  },
  {
   "cell_type": "code",
   "execution_count": 2,
   "id": "2a1998d6-47c7-4292-a669-fa046c6d69fa",
   "metadata": {},
   "outputs": [
    {
     "data": {
      "text/html": [
       "<div>\n",
       "<style scoped>\n",
       "    .dataframe tbody tr th:only-of-type {\n",
       "        vertical-align: middle;\n",
       "    }\n",
       "\n",
       "    .dataframe tbody tr th {\n",
       "        vertical-align: top;\n",
       "    }\n",
       "\n",
       "    .dataframe thead th {\n",
       "        text-align: right;\n",
       "    }\n",
       "</style>\n",
       "<table border=\"1\" class=\"dataframe\">\n",
       "  <thead>\n",
       "    <tr style=\"text-align: right;\">\n",
       "      <th></th>\n",
       "      <th>User ID</th>\n",
       "      <th>User Name</th>\n",
       "      <th>Age</th>\n",
       "      <th>Location</th>\n",
       "      <th>Registration Date</th>\n",
       "      <th>Phone</th>\n",
       "      <th>Email</th>\n",
       "      <th>Favorite Meal</th>\n",
       "      <th>Total Orders</th>\n",
       "    </tr>\n",
       "  </thead>\n",
       "  <tbody>\n",
       "    <tr>\n",
       "      <th>0</th>\n",
       "      <td>U001</td>\n",
       "      <td>Alice Johnson</td>\n",
       "      <td>28</td>\n",
       "      <td>New York</td>\n",
       "      <td>2023-01-15</td>\n",
       "      <td>123-456-7890</td>\n",
       "      <td>alice@email.com</td>\n",
       "      <td>Dinner</td>\n",
       "      <td>12</td>\n",
       "    </tr>\n",
       "    <tr>\n",
       "      <th>1</th>\n",
       "      <td>U002</td>\n",
       "      <td>Bob Smith</td>\n",
       "      <td>35</td>\n",
       "      <td>Los Angeles</td>\n",
       "      <td>2023-02-20</td>\n",
       "      <td>987-654-3210</td>\n",
       "      <td>bob@email.com</td>\n",
       "      <td>Lunch</td>\n",
       "      <td>8</td>\n",
       "    </tr>\n",
       "    <tr>\n",
       "      <th>2</th>\n",
       "      <td>U003</td>\n",
       "      <td>Charlie Lee</td>\n",
       "      <td>42</td>\n",
       "      <td>Chicago</td>\n",
       "      <td>2023-03-10</td>\n",
       "      <td>555-123-4567</td>\n",
       "      <td>charlie@email.com</td>\n",
       "      <td>Breakfast</td>\n",
       "      <td>15</td>\n",
       "    </tr>\n",
       "    <tr>\n",
       "      <th>3</th>\n",
       "      <td>U004</td>\n",
       "      <td>David Brown</td>\n",
       "      <td>27</td>\n",
       "      <td>San Francisco</td>\n",
       "      <td>2023-04-05</td>\n",
       "      <td>444-333-2222</td>\n",
       "      <td>david@email.com</td>\n",
       "      <td>Dinner</td>\n",
       "      <td>10</td>\n",
       "    </tr>\n",
       "    <tr>\n",
       "      <th>4</th>\n",
       "      <td>U005</td>\n",
       "      <td>Emma White</td>\n",
       "      <td>30</td>\n",
       "      <td>Seattle</td>\n",
       "      <td>2023-05-22</td>\n",
       "      <td>777-888-9999</td>\n",
       "      <td>emma@email.com</td>\n",
       "      <td>Lunch</td>\n",
       "      <td>9</td>\n",
       "    </tr>\n",
       "  </tbody>\n",
       "</table>\n",
       "</div>"
      ],
      "text/plain": [
       "  User ID      User Name  Age       Location Registration Date         Phone  \\\n",
       "0    U001  Alice Johnson   28       New York        2023-01-15  123-456-7890   \n",
       "1    U002      Bob Smith   35    Los Angeles        2023-02-20  987-654-3210   \n",
       "2    U003    Charlie Lee   42        Chicago        2023-03-10  555-123-4567   \n",
       "3    U004    David Brown   27  San Francisco        2023-04-05  444-333-2222   \n",
       "4    U005     Emma White   30        Seattle        2023-05-22  777-888-9999   \n",
       "\n",
       "               Email Favorite Meal  Total Orders  \n",
       "0    alice@email.com        Dinner            12  \n",
       "1      bob@email.com         Lunch             8  \n",
       "2  charlie@email.com     Breakfast            15  \n",
       "3    david@email.com        Dinner            10  \n",
       "4     emma@email.com         Lunch             9  "
      ]
     },
     "execution_count": 2,
     "metadata": {},
     "output_type": "execute_result"
    }
   ],
   "source": [
    "user_details.head()"
   ]
  },
  {
   "cell_type": "code",
   "execution_count": 3,
   "id": "7c18d22f-7e52-4d36-b6ab-c1aaecb2e225",
   "metadata": {},
   "outputs": [
    {
     "data": {
      "text/html": [
       "<div>\n",
       "<style scoped>\n",
       "    .dataframe tbody tr th:only-of-type {\n",
       "        vertical-align: middle;\n",
       "    }\n",
       "\n",
       "    .dataframe tbody tr th {\n",
       "        vertical-align: top;\n",
       "    }\n",
       "\n",
       "    .dataframe thead th {\n",
       "        text-align: right;\n",
       "    }\n",
       "</style>\n",
       "<table border=\"1\" class=\"dataframe\">\n",
       "  <thead>\n",
       "    <tr style=\"text-align: right;\">\n",
       "      <th></th>\n",
       "      <th>Session ID</th>\n",
       "      <th>User ID</th>\n",
       "      <th>Dish Name</th>\n",
       "      <th>Meal Type</th>\n",
       "      <th>Session Start</th>\n",
       "      <th>Session End</th>\n",
       "      <th>Duration (mins)</th>\n",
       "      <th>Session Rating</th>\n",
       "    </tr>\n",
       "  </thead>\n",
       "  <tbody>\n",
       "    <tr>\n",
       "      <th>0</th>\n",
       "      <td>S001</td>\n",
       "      <td>U001</td>\n",
       "      <td>Spaghetti</td>\n",
       "      <td>Dinner</td>\n",
       "      <td>2024-12-01 19:00:00</td>\n",
       "      <td>2024-12-01 19:30:00</td>\n",
       "      <td>30</td>\n",
       "      <td>4.5</td>\n",
       "    </tr>\n",
       "    <tr>\n",
       "      <th>1</th>\n",
       "      <td>S002</td>\n",
       "      <td>U002</td>\n",
       "      <td>Caesar Salad</td>\n",
       "      <td>Lunch</td>\n",
       "      <td>2024-12-01 12:00:00</td>\n",
       "      <td>2024-12-01 12:20:00</td>\n",
       "      <td>20</td>\n",
       "      <td>4.0</td>\n",
       "    </tr>\n",
       "    <tr>\n",
       "      <th>2</th>\n",
       "      <td>S003</td>\n",
       "      <td>U003</td>\n",
       "      <td>Grilled Chicken</td>\n",
       "      <td>Dinner</td>\n",
       "      <td>2024-12-02 19:30:00</td>\n",
       "      <td>2024-12-02 20:10:00</td>\n",
       "      <td>40</td>\n",
       "      <td>4.8</td>\n",
       "    </tr>\n",
       "    <tr>\n",
       "      <th>3</th>\n",
       "      <td>S004</td>\n",
       "      <td>U001</td>\n",
       "      <td>Pancakes</td>\n",
       "      <td>Breakfast</td>\n",
       "      <td>2024-12-02 07:30:00</td>\n",
       "      <td>2024-12-02 08:00:00</td>\n",
       "      <td>30</td>\n",
       "      <td>4.2</td>\n",
       "    </tr>\n",
       "    <tr>\n",
       "      <th>4</th>\n",
       "      <td>S005</td>\n",
       "      <td>U004</td>\n",
       "      <td>Caesar Salad</td>\n",
       "      <td>Lunch</td>\n",
       "      <td>2024-12-03 13:00:00</td>\n",
       "      <td>2024-12-03 13:15:00</td>\n",
       "      <td>15</td>\n",
       "      <td>4.7</td>\n",
       "    </tr>\n",
       "  </tbody>\n",
       "</table>\n",
       "</div>"
      ],
      "text/plain": [
       "  Session ID User ID        Dish Name  Meal Type       Session Start  \\\n",
       "0       S001    U001        Spaghetti     Dinner 2024-12-01 19:00:00   \n",
       "1       S002    U002     Caesar Salad      Lunch 2024-12-01 12:00:00   \n",
       "2       S003    U003  Grilled Chicken     Dinner 2024-12-02 19:30:00   \n",
       "3       S004    U001         Pancakes  Breakfast 2024-12-02 07:30:00   \n",
       "4       S005    U004     Caesar Salad      Lunch 2024-12-03 13:00:00   \n",
       "\n",
       "          Session End  Duration (mins)  Session Rating  \n",
       "0 2024-12-01 19:30:00               30             4.5  \n",
       "1 2024-12-01 12:20:00               20             4.0  \n",
       "2 2024-12-02 20:10:00               40             4.8  \n",
       "3 2024-12-02 08:00:00               30             4.2  \n",
       "4 2024-12-03 13:15:00               15             4.7  "
      ]
     },
     "execution_count": 3,
     "metadata": {},
     "output_type": "execute_result"
    }
   ],
   "source": [
    "cooking_sessions.head()"
   ]
  },
  {
   "cell_type": "code",
   "execution_count": 4,
   "id": "bf3bf9a0-9edf-4695-b24d-672f72090be9",
   "metadata": {},
   "outputs": [
    {
     "data": {
      "text/html": [
       "<div>\n",
       "<style scoped>\n",
       "    .dataframe tbody tr th:only-of-type {\n",
       "        vertical-align: middle;\n",
       "    }\n",
       "\n",
       "    .dataframe tbody tr th {\n",
       "        vertical-align: top;\n",
       "    }\n",
       "\n",
       "    .dataframe thead th {\n",
       "        text-align: right;\n",
       "    }\n",
       "</style>\n",
       "<table border=\"1\" class=\"dataframe\">\n",
       "  <thead>\n",
       "    <tr style=\"text-align: right;\">\n",
       "      <th></th>\n",
       "      <th>Order ID</th>\n",
       "      <th>User ID</th>\n",
       "      <th>Order Date</th>\n",
       "      <th>Meal Type</th>\n",
       "      <th>Dish Name</th>\n",
       "      <th>Order Status</th>\n",
       "      <th>Amount (USD)</th>\n",
       "      <th>Time of Day</th>\n",
       "      <th>Rating</th>\n",
       "      <th>Session ID</th>\n",
       "    </tr>\n",
       "  </thead>\n",
       "  <tbody>\n",
       "    <tr>\n",
       "      <th>0</th>\n",
       "      <td>1001</td>\n",
       "      <td>U001</td>\n",
       "      <td>2024-12-01</td>\n",
       "      <td>Dinner</td>\n",
       "      <td>Spaghetti</td>\n",
       "      <td>Completed</td>\n",
       "      <td>15.0</td>\n",
       "      <td>Night</td>\n",
       "      <td>5.0</td>\n",
       "      <td>S001</td>\n",
       "    </tr>\n",
       "    <tr>\n",
       "      <th>1</th>\n",
       "      <td>1002</td>\n",
       "      <td>U002</td>\n",
       "      <td>2024-12-01</td>\n",
       "      <td>Lunch</td>\n",
       "      <td>Caesar Salad</td>\n",
       "      <td>Completed</td>\n",
       "      <td>10.0</td>\n",
       "      <td>Day</td>\n",
       "      <td>4.0</td>\n",
       "      <td>S002</td>\n",
       "    </tr>\n",
       "    <tr>\n",
       "      <th>2</th>\n",
       "      <td>1003</td>\n",
       "      <td>U003</td>\n",
       "      <td>2024-12-02</td>\n",
       "      <td>Dinner</td>\n",
       "      <td>Grilled Chicken</td>\n",
       "      <td>Canceled</td>\n",
       "      <td>12.5</td>\n",
       "      <td>Night</td>\n",
       "      <td>NaN</td>\n",
       "      <td>S003</td>\n",
       "    </tr>\n",
       "    <tr>\n",
       "      <th>3</th>\n",
       "      <td>1004</td>\n",
       "      <td>U001</td>\n",
       "      <td>2024-12-02</td>\n",
       "      <td>Breakfast</td>\n",
       "      <td>Pancakes</td>\n",
       "      <td>Completed</td>\n",
       "      <td>8.0</td>\n",
       "      <td>Morning</td>\n",
       "      <td>4.0</td>\n",
       "      <td>S004</td>\n",
       "    </tr>\n",
       "    <tr>\n",
       "      <th>4</th>\n",
       "      <td>1005</td>\n",
       "      <td>U004</td>\n",
       "      <td>2024-12-03</td>\n",
       "      <td>Lunch</td>\n",
       "      <td>Caesar Salad</td>\n",
       "      <td>Completed</td>\n",
       "      <td>9.0</td>\n",
       "      <td>Day</td>\n",
       "      <td>4.0</td>\n",
       "      <td>S005</td>\n",
       "    </tr>\n",
       "  </tbody>\n",
       "</table>\n",
       "</div>"
      ],
      "text/plain": [
       "   Order ID User ID Order Date  Meal Type        Dish Name Order Status  \\\n",
       "0      1001    U001 2024-12-01     Dinner        Spaghetti    Completed   \n",
       "1      1002    U002 2024-12-01      Lunch     Caesar Salad    Completed   \n",
       "2      1003    U003 2024-12-02     Dinner  Grilled Chicken     Canceled   \n",
       "3      1004    U001 2024-12-02  Breakfast         Pancakes    Completed   \n",
       "4      1005    U004 2024-12-03      Lunch     Caesar Salad    Completed   \n",
       "\n",
       "   Amount (USD) Time of Day  Rating Session ID  \n",
       "0          15.0       Night     5.0       S001  \n",
       "1          10.0         Day     4.0       S002  \n",
       "2          12.5       Night     NaN       S003  \n",
       "3           8.0     Morning     4.0       S004  \n",
       "4           9.0         Day     4.0       S005  "
      ]
     },
     "execution_count": 4,
     "metadata": {},
     "output_type": "execute_result"
    }
   ],
   "source": [
    "order_details.head()"
   ]
  },
  {
   "cell_type": "markdown",
   "id": "0516e037-7668-4f25-ad5d-3cec025572e1",
   "metadata": {},
   "source": [
    "# Printing the info of Dataset "
   ]
  },
  {
   "cell_type": "code",
   "execution_count": 5,
   "id": "028189c3-d527-4a6f-b428-d5e4b68f0e8a",
   "metadata": {},
   "outputs": [
    {
     "name": "stdout",
     "output_type": "stream",
     "text": [
      "<class 'pandas.core.frame.DataFrame'>\n",
      "RangeIndex: 10 entries, 0 to 9\n",
      "Data columns (total 9 columns):\n",
      " #   Column             Non-Null Count  Dtype         \n",
      "---  ------             --------------  -----         \n",
      " 0   User ID            10 non-null     object        \n",
      " 1   User Name          10 non-null     object        \n",
      " 2   Age                10 non-null     int64         \n",
      " 3   Location           10 non-null     object        \n",
      " 4   Registration Date  10 non-null     datetime64[ns]\n",
      " 5   Phone              10 non-null     object        \n",
      " 6   Email              10 non-null     object        \n",
      " 7   Favorite Meal      10 non-null     object        \n",
      " 8   Total Orders       10 non-null     int64         \n",
      "dtypes: datetime64[ns](1), int64(2), object(6)\n",
      "memory usage: 852.0+ bytes\n"
     ]
    }
   ],
   "source": [
    "user_details.info()"
   ]
  },
  {
   "cell_type": "code",
   "execution_count": 6,
   "id": "5aa1fdc3-81ee-4cea-89e0-3c139c055336",
   "metadata": {},
   "outputs": [
    {
     "name": "stdout",
     "output_type": "stream",
     "text": [
      "<class 'pandas.core.frame.DataFrame'>\n",
      "RangeIndex: 16 entries, 0 to 15\n",
      "Data columns (total 8 columns):\n",
      " #   Column           Non-Null Count  Dtype         \n",
      "---  ------           --------------  -----         \n",
      " 0   Session ID       16 non-null     object        \n",
      " 1   User ID          16 non-null     object        \n",
      " 2   Dish Name        16 non-null     object        \n",
      " 3   Meal Type        16 non-null     object        \n",
      " 4   Session Start    16 non-null     datetime64[ns]\n",
      " 5   Session End      16 non-null     datetime64[ns]\n",
      " 6   Duration (mins)  16 non-null     int64         \n",
      " 7   Session Rating   16 non-null     float64       \n",
      "dtypes: datetime64[ns](2), float64(1), int64(1), object(4)\n",
      "memory usage: 1.1+ KB\n"
     ]
    }
   ],
   "source": [
    "cooking_sessions.info()"
   ]
  },
  {
   "cell_type": "code",
   "execution_count": 7,
   "id": "c7cbc8b9-5161-4d2a-8f26-a17019bc0aac",
   "metadata": {},
   "outputs": [
    {
     "name": "stdout",
     "output_type": "stream",
     "text": [
      "<class 'pandas.core.frame.DataFrame'>\n",
      "RangeIndex: 16 entries, 0 to 15\n",
      "Data columns (total 10 columns):\n",
      " #   Column        Non-Null Count  Dtype         \n",
      "---  ------        --------------  -----         \n",
      " 0   Order ID      16 non-null     int64         \n",
      " 1   User ID       16 non-null     object        \n",
      " 2   Order Date    16 non-null     datetime64[ns]\n",
      " 3   Meal Type     16 non-null     object        \n",
      " 4   Dish Name     16 non-null     object        \n",
      " 5   Order Status  16 non-null     object        \n",
      " 6   Amount (USD)  16 non-null     float64       \n",
      " 7   Time of Day   16 non-null     object        \n",
      " 8   Rating        14 non-null     float64       \n",
      " 9   Session ID    16 non-null     object        \n",
      "dtypes: datetime64[ns](1), float64(2), int64(1), object(6)\n",
      "memory usage: 1.4+ KB\n"
     ]
    }
   ],
   "source": [
    "order_details.info()"
   ]
  },
  {
   "cell_type": "markdown",
   "id": "5b3e0a4c-548c-477a-a394-6edb5f09ac0d",
   "metadata": {},
   "source": [
    "# Checking the missing values in the datasets"
   ]
  },
  {
   "cell_type": "code",
   "execution_count": 8,
   "id": "d9e1cb2f-ea1c-41b7-89f2-e9125e29ee95",
   "metadata": {},
   "outputs": [
    {
     "data": {
      "text/plain": [
       "User ID              0\n",
       "User Name            0\n",
       "Age                  0\n",
       "Location             0\n",
       "Registration Date    0\n",
       "Phone                0\n",
       "Email                0\n",
       "Favorite Meal        0\n",
       "Total Orders         0\n",
       "dtype: int64"
      ]
     },
     "execution_count": 8,
     "metadata": {},
     "output_type": "execute_result"
    }
   ],
   "source": [
    "user_details.isnull().sum()"
   ]
  },
  {
   "cell_type": "code",
   "execution_count": 9,
   "id": "13d371f8-63db-414a-9d50-dba96a753c4c",
   "metadata": {},
   "outputs": [
    {
     "data": {
      "text/plain": [
       "Session ID         0\n",
       "User ID            0\n",
       "Dish Name          0\n",
       "Meal Type          0\n",
       "Session Start      0\n",
       "Session End        0\n",
       "Duration (mins)    0\n",
       "Session Rating     0\n",
       "dtype: int64"
      ]
     },
     "execution_count": 9,
     "metadata": {},
     "output_type": "execute_result"
    }
   ],
   "source": [
    "cooking_sessions.isnull().sum()"
   ]
  },
  {
   "cell_type": "code",
   "execution_count": 10,
   "id": "b8584ccf-ca6f-4321-860a-49b4f264c8ec",
   "metadata": {},
   "outputs": [
    {
     "data": {
      "text/plain": [
       "Order ID        0\n",
       "User ID         0\n",
       "Order Date      0\n",
       "Meal Type       0\n",
       "Dish Name       0\n",
       "Order Status    0\n",
       "Amount (USD)    0\n",
       "Time of Day     0\n",
       "Rating          2\n",
       "Session ID      0\n",
       "dtype: int64"
      ]
     },
     "execution_count": 10,
     "metadata": {},
     "output_type": "execute_result"
    }
   ],
   "source": [
    "order_details.isnull().sum()"
   ]
  },
  {
   "cell_type": "markdown",
   "id": "72af87c0-1d79-4810-8152-a9a1162d5917",
   "metadata": {},
   "source": [
    "### So from the above dataset we can see that order_details has a 2 missing values...."
   ]
  },
  {
   "cell_type": "markdown",
   "id": "b51df0ce-1259-44db-bb03-dc1443094a5e",
   "metadata": {},
   "source": [
    "# Descriptive information of all the dataset"
   ]
  },
  {
   "cell_type": "code",
   "execution_count": 11,
   "id": "5ab0f9fb-5f53-4364-9f47-f816c04dd012",
   "metadata": {},
   "outputs": [
    {
     "data": {
      "text/html": [
       "<div>\n",
       "<style scoped>\n",
       "    .dataframe tbody tr th:only-of-type {\n",
       "        vertical-align: middle;\n",
       "    }\n",
       "\n",
       "    .dataframe tbody tr th {\n",
       "        vertical-align: top;\n",
       "    }\n",
       "\n",
       "    .dataframe thead th {\n",
       "        text-align: right;\n",
       "    }\n",
       "</style>\n",
       "<table border=\"1\" class=\"dataframe\">\n",
       "  <thead>\n",
       "    <tr style=\"text-align: right;\">\n",
       "      <th></th>\n",
       "      <th>Age</th>\n",
       "      <th>Registration Date</th>\n",
       "      <th>Total Orders</th>\n",
       "    </tr>\n",
       "  </thead>\n",
       "  <tbody>\n",
       "    <tr>\n",
       "      <th>count</th>\n",
       "      <td>10.000000</td>\n",
       "      <td>10</td>\n",
       "      <td>10.000000</td>\n",
       "    </tr>\n",
       "    <tr>\n",
       "      <th>mean</th>\n",
       "      <td>31.800000</td>\n",
       "      <td>2023-05-27 02:24:00</td>\n",
       "      <td>9.400000</td>\n",
       "    </tr>\n",
       "    <tr>\n",
       "      <th>min</th>\n",
       "      <td>25.000000</td>\n",
       "      <td>2023-01-15 00:00:00</td>\n",
       "      <td>5.000000</td>\n",
       "    </tr>\n",
       "    <tr>\n",
       "      <th>25%</th>\n",
       "      <td>28.250000</td>\n",
       "      <td>2023-03-16 12:00:00</td>\n",
       "      <td>7.250000</td>\n",
       "    </tr>\n",
       "    <tr>\n",
       "      <th>50%</th>\n",
       "      <td>30.500000</td>\n",
       "      <td>2023-06-03 00:00:00</td>\n",
       "      <td>8.500000</td>\n",
       "    </tr>\n",
       "    <tr>\n",
       "      <th>75%</th>\n",
       "      <td>34.500000</td>\n",
       "      <td>2023-08-01 00:00:00</td>\n",
       "      <td>11.500000</td>\n",
       "    </tr>\n",
       "    <tr>\n",
       "      <th>max</th>\n",
       "      <td>42.000000</td>\n",
       "      <td>2023-10-10 00:00:00</td>\n",
       "      <td>15.000000</td>\n",
       "    </tr>\n",
       "    <tr>\n",
       "      <th>std</th>\n",
       "      <td>5.266245</td>\n",
       "      <td>NaN</td>\n",
       "      <td>3.339993</td>\n",
       "    </tr>\n",
       "  </tbody>\n",
       "</table>\n",
       "</div>"
      ],
      "text/plain": [
       "             Age    Registration Date  Total Orders\n",
       "count  10.000000                   10     10.000000\n",
       "mean   31.800000  2023-05-27 02:24:00      9.400000\n",
       "min    25.000000  2023-01-15 00:00:00      5.000000\n",
       "25%    28.250000  2023-03-16 12:00:00      7.250000\n",
       "50%    30.500000  2023-06-03 00:00:00      8.500000\n",
       "75%    34.500000  2023-08-01 00:00:00     11.500000\n",
       "max    42.000000  2023-10-10 00:00:00     15.000000\n",
       "std     5.266245                  NaN      3.339993"
      ]
     },
     "execution_count": 11,
     "metadata": {},
     "output_type": "execute_result"
    }
   ],
   "source": [
    "user_details.describe()"
   ]
  },
  {
   "cell_type": "code",
   "execution_count": 12,
   "id": "1c4fb4b8-57ce-45f4-9c97-7289f8e527d9",
   "metadata": {},
   "outputs": [
    {
     "data": {
      "text/html": [
       "<div>\n",
       "<style scoped>\n",
       "    .dataframe tbody tr th:only-of-type {\n",
       "        vertical-align: middle;\n",
       "    }\n",
       "\n",
       "    .dataframe tbody tr th {\n",
       "        vertical-align: top;\n",
       "    }\n",
       "\n",
       "    .dataframe thead th {\n",
       "        text-align: right;\n",
       "    }\n",
       "</style>\n",
       "<table border=\"1\" class=\"dataframe\">\n",
       "  <thead>\n",
       "    <tr style=\"text-align: right;\">\n",
       "      <th></th>\n",
       "      <th>Session Start</th>\n",
       "      <th>Session End</th>\n",
       "      <th>Duration (mins)</th>\n",
       "      <th>Session Rating</th>\n",
       "    </tr>\n",
       "  </thead>\n",
       "  <tbody>\n",
       "    <tr>\n",
       "      <th>count</th>\n",
       "      <td>16</td>\n",
       "      <td>16</td>\n",
       "      <td>16.000000</td>\n",
       "      <td>16.000000</td>\n",
       "    </tr>\n",
       "    <tr>\n",
       "      <th>mean</th>\n",
       "      <td>2024-12-05 02:50:37.500000</td>\n",
       "      <td>2024-12-05 03:20:56.249999872</td>\n",
       "      <td>30.312500</td>\n",
       "      <td>4.518750</td>\n",
       "    </tr>\n",
       "    <tr>\n",
       "      <th>min</th>\n",
       "      <td>2024-12-01 12:00:00</td>\n",
       "      <td>2024-12-01 12:20:00</td>\n",
       "      <td>10.000000</td>\n",
       "      <td>4.000000</td>\n",
       "    </tr>\n",
       "    <tr>\n",
       "      <th>25%</th>\n",
       "      <td>2024-12-03 08:37:30</td>\n",
       "      <td>2024-12-03 08:58:45</td>\n",
       "      <td>20.000000</td>\n",
       "      <td>4.300000</td>\n",
       "    </tr>\n",
       "    <tr>\n",
       "      <th>50%</th>\n",
       "      <td>2024-12-05 00:30:00</td>\n",
       "      <td>2024-12-05 00:57:30</td>\n",
       "      <td>30.000000</td>\n",
       "      <td>4.550000</td>\n",
       "    </tr>\n",
       "    <tr>\n",
       "      <th>75%</th>\n",
       "      <td>2024-12-06 23:22:30</td>\n",
       "      <td>2024-12-07 00:00:00</td>\n",
       "      <td>40.000000</td>\n",
       "      <td>4.725000</td>\n",
       "    </tr>\n",
       "    <tr>\n",
       "      <th>max</th>\n",
       "      <td>2024-12-08 19:30:00</td>\n",
       "      <td>2024-12-08 20:10:00</td>\n",
       "      <td>45.000000</td>\n",
       "      <td>5.000000</td>\n",
       "    </tr>\n",
       "    <tr>\n",
       "      <th>std</th>\n",
       "      <td>NaN</td>\n",
       "      <td>NaN</td>\n",
       "      <td>10.873324</td>\n",
       "      <td>0.292617</td>\n",
       "    </tr>\n",
       "  </tbody>\n",
       "</table>\n",
       "</div>"
      ],
      "text/plain": [
       "                    Session Start                    Session End  \\\n",
       "count                          16                             16   \n",
       "mean   2024-12-05 02:50:37.500000  2024-12-05 03:20:56.249999872   \n",
       "min           2024-12-01 12:00:00            2024-12-01 12:20:00   \n",
       "25%           2024-12-03 08:37:30            2024-12-03 08:58:45   \n",
       "50%           2024-12-05 00:30:00            2024-12-05 00:57:30   \n",
       "75%           2024-12-06 23:22:30            2024-12-07 00:00:00   \n",
       "max           2024-12-08 19:30:00            2024-12-08 20:10:00   \n",
       "std                           NaN                            NaN   \n",
       "\n",
       "       Duration (mins)  Session Rating  \n",
       "count        16.000000       16.000000  \n",
       "mean         30.312500        4.518750  \n",
       "min          10.000000        4.000000  \n",
       "25%          20.000000        4.300000  \n",
       "50%          30.000000        4.550000  \n",
       "75%          40.000000        4.725000  \n",
       "max          45.000000        5.000000  \n",
       "std          10.873324        0.292617  "
      ]
     },
     "execution_count": 12,
     "metadata": {},
     "output_type": "execute_result"
    }
   ],
   "source": [
    "cooking_sessions.describe()"
   ]
  },
  {
   "cell_type": "code",
   "execution_count": 13,
   "id": "4611a127-e34c-4e87-b3af-ffc54ac3f724",
   "metadata": {},
   "outputs": [
    {
     "data": {
      "text/html": [
       "<div>\n",
       "<style scoped>\n",
       "    .dataframe tbody tr th:only-of-type {\n",
       "        vertical-align: middle;\n",
       "    }\n",
       "\n",
       "    .dataframe tbody tr th {\n",
       "        vertical-align: top;\n",
       "    }\n",
       "\n",
       "    .dataframe thead th {\n",
       "        text-align: right;\n",
       "    }\n",
       "</style>\n",
       "<table border=\"1\" class=\"dataframe\">\n",
       "  <thead>\n",
       "    <tr style=\"text-align: right;\">\n",
       "      <th></th>\n",
       "      <th>Order ID</th>\n",
       "      <th>Order Date</th>\n",
       "      <th>Amount (USD)</th>\n",
       "      <th>Rating</th>\n",
       "    </tr>\n",
       "  </thead>\n",
       "  <tbody>\n",
       "    <tr>\n",
       "      <th>count</th>\n",
       "      <td>16.000000</td>\n",
       "      <td>16</td>\n",
       "      <td>16.000000</td>\n",
       "      <td>14.000000</td>\n",
       "    </tr>\n",
       "    <tr>\n",
       "      <th>mean</th>\n",
       "      <td>1008.500000</td>\n",
       "      <td>2024-12-04 12:00:00</td>\n",
       "      <td>11.250000</td>\n",
       "      <td>4.285714</td>\n",
       "    </tr>\n",
       "    <tr>\n",
       "      <th>min</th>\n",
       "      <td>1001.000000</td>\n",
       "      <td>2024-12-01 00:00:00</td>\n",
       "      <td>7.000000</td>\n",
       "      <td>4.000000</td>\n",
       "    </tr>\n",
       "    <tr>\n",
       "      <th>25%</th>\n",
       "      <td>1004.750000</td>\n",
       "      <td>2024-12-02 18:00:00</td>\n",
       "      <td>9.000000</td>\n",
       "      <td>4.000000</td>\n",
       "    </tr>\n",
       "    <tr>\n",
       "      <th>50%</th>\n",
       "      <td>1008.500000</td>\n",
       "      <td>2024-12-04 12:00:00</td>\n",
       "      <td>11.500000</td>\n",
       "      <td>4.000000</td>\n",
       "    </tr>\n",
       "    <tr>\n",
       "      <th>75%</th>\n",
       "      <td>1012.250000</td>\n",
       "      <td>2024-12-06 06:00:00</td>\n",
       "      <td>13.125000</td>\n",
       "      <td>4.750000</td>\n",
       "    </tr>\n",
       "    <tr>\n",
       "      <th>max</th>\n",
       "      <td>1016.000000</td>\n",
       "      <td>2024-12-08 00:00:00</td>\n",
       "      <td>15.000000</td>\n",
       "      <td>5.000000</td>\n",
       "    </tr>\n",
       "    <tr>\n",
       "      <th>std</th>\n",
       "      <td>4.760952</td>\n",
       "      <td>NaN</td>\n",
       "      <td>2.435843</td>\n",
       "      <td>0.468807</td>\n",
       "    </tr>\n",
       "  </tbody>\n",
       "</table>\n",
       "</div>"
      ],
      "text/plain": [
       "          Order ID           Order Date  Amount (USD)     Rating\n",
       "count    16.000000                   16     16.000000  14.000000\n",
       "mean   1008.500000  2024-12-04 12:00:00     11.250000   4.285714\n",
       "min    1001.000000  2024-12-01 00:00:00      7.000000   4.000000\n",
       "25%    1004.750000  2024-12-02 18:00:00      9.000000   4.000000\n",
       "50%    1008.500000  2024-12-04 12:00:00     11.500000   4.000000\n",
       "75%    1012.250000  2024-12-06 06:00:00     13.125000   4.750000\n",
       "max    1016.000000  2024-12-08 00:00:00     15.000000   5.000000\n",
       "std       4.760952                  NaN      2.435843   0.468807"
      ]
     },
     "execution_count": 13,
     "metadata": {},
     "output_type": "execute_result"
    }
   ],
   "source": [
    "order_details.describe()"
   ]
  },
  {
   "cell_type": "markdown",
   "id": "8afed623-e2a5-4ffb-af36-e4691c10d715",
   "metadata": {},
   "source": [
    "# Data Cleaning\n",
    "### Handling Missing Data\n",
    "\n"
   ]
  },
  {
   "cell_type": "code",
   "execution_count": 14,
   "id": "dae68f6c-4c66-4ddb-92d4-f5c73d1cf633",
   "metadata": {},
   "outputs": [],
   "source": [
    "user_details = user_details.drop_duplicates()\n",
    "cooking_sessions = cooking_sessions.drop_duplicates()\n",
    "order_details = order_details.drop_duplicates()"
   ]
  },
  {
   "cell_type": "markdown",
   "id": "30475d89-3882-4cb1-9249-aaf94f5d5452",
   "metadata": {},
   "source": [
    "# using fillna and dropna to fill the missing values present in the dataset"
   ]
  },
  {
   "cell_type": "code",
   "execution_count": 15,
   "id": "34ade49e-bf2d-4d6b-8e18-d9a66ea9d917",
   "metadata": {},
   "outputs": [],
   "source": [
    "user_details = user_details.fillna({'Favorite Meal': 'Unknown'})\n",
    "cooking_sessions = cooking_sessions.dropna(subset=['Dish Name'])\n",
    "order_details = order_details.fillna({'Rating': 0})"
   ]
  },
  {
   "cell_type": "markdown",
   "id": "3aa93fce-ada0-40e8-8bd2-1a9064b010e5",
   "metadata": {},
   "source": [
    "# Merging the data using inner join"
   ]
  },
  {
   "cell_type": "code",
   "execution_count": 16,
   "id": "b8bdfe00-4d24-4791-ac2a-63607f51a22a",
   "metadata": {},
   "outputs": [],
   "source": [
    "merged_data = pd.merge(cooking_sessions, user_details, on='User ID', how='inner')"
   ]
  },
  {
   "cell_type": "code",
   "execution_count": 17,
   "id": "0328eac0-baf2-4b8d-b2cc-f4c0af15021e",
   "metadata": {},
   "outputs": [],
   "source": [
    "final_data = pd.merge(merged_data, order_details, on='Session ID', how='inner')"
   ]
  },
  {
   "cell_type": "code",
   "execution_count": 18,
   "id": "a46ca83f-dbe9-4da4-9ce6-8eba2dfade5f",
   "metadata": {},
   "outputs": [],
   "source": [
    "final_data = final_data.rename(columns={'Dish Name_x': 'Cooking Dish Name', 'Dish Name_y': 'Order Dish Name'})\n"
   ]
  },
  {
   "cell_type": "code",
   "execution_count": 19,
   "id": "8ff58061-3e82-45b5-a43d-919a8a673d67",
   "metadata": {},
   "outputs": [
    {
     "name": "stdout",
     "output_type": "stream",
     "text": [
      "Columns in final_data: Index(['Session ID', 'User ID_x', 'Cooking Dish Name', 'Meal Type_x',\n",
      "       'Session Start', 'Session End', 'Duration (mins)', 'Session Rating',\n",
      "       'User Name', 'Age', 'Location', 'Registration Date', 'Phone', 'Email',\n",
      "       'Favorite Meal', 'Total Orders', 'Order ID', 'User ID_y', 'Order Date',\n",
      "       'Meal Type_y', 'Order Dish Name', 'Order Status', 'Amount (USD)',\n",
      "       'Time of Day', 'Rating'],\n",
      "      dtype='object')\n"
     ]
    }
   ],
   "source": [
    "print(\"Columns in final_data:\", final_data.columns)\n"
   ]
  },
  {
   "cell_type": "markdown",
   "id": "4bc0f7be-e12b-4085-ba09-cf315c9e5c02",
   "metadata": {},
   "source": [
    "# Analysis"
   ]
  },
  {
   "cell_type": "markdown",
   "id": "378a44ab-ec8e-4249-a99f-686501c212d2",
   "metadata": {},
   "source": [
    "# Top 10 popular dishes "
   ]
  },
  {
   "cell_type": "markdown",
   "id": "6757c6cc-c044-4051-a39f-57a96b0ac56f",
   "metadata": {},
   "source": [
    "### from the given dataset we can see that the spaghetti and grilled chicken are the most popular top 10 dishes"
   ]
  },
  {
   "cell_type": "code",
   "execution_count": 20,
   "id": "4260733f-4312-4a6b-b844-139456cbd5c7",
   "metadata": {},
   "outputs": [
    {
     "name": "stdout",
     "output_type": "stream",
     "text": [
      "Order trends by time of day:\n",
      " Time of Day\n",
      "Night      8\n",
      "Day        5\n",
      "Morning    3\n",
      "Name: count, dtype: int64\n"
     ]
    }
   ],
   "source": [
    "# 2. Order trends by time of day\n",
    "if 'Time of Day' in final_data.columns:\n",
    "    order_trends_time = final_data['Time of Day'].value_counts()\n",
    "    print(\"Order trends by time of day:\\n\", order_trends_time)\n",
    "    order_trends_time.to_csv('Order_Trends_By_Time.csv')\n",
    "else:\n",
    "    print(\"Error: 'Time of Day' column not found in final_data.\")"
   ]
  },
  {
   "cell_type": "markdown",
   "id": "d146ec10-74f5-425b-ad92-5acd47f97b78",
   "metadata": {},
   "source": [
    "### we can analyse that the more orders are placed during night time then the day time "
   ]
  },
  {
   "cell_type": "markdown",
   "id": "c31abc4d-da01-4597-a842-c994191a6166",
   "metadata": {},
   "source": [
    "# 3. Demographics: Age group analysis"
   ]
  },
  {
   "cell_type": "code",
   "execution_count": 21,
   "id": "2ed2eac7-c3e3-445b-bf02-4981e3353aa3",
   "metadata": {},
   "outputs": [
    {
     "name": "stdout",
     "output_type": "stream",
     "text": [
      "Age group analysis:\n",
      " Order Dish Name  Caesar Salad  Grilled Chicken  Oatmeal  Pancakes  Spaghetti  \\\n",
      "Age Group                                                                      \n",
      "0-18                        0                0        0         0          0   \n",
      "19-35                       3                3        1         1          3   \n",
      "36-50                       0                1        0         1          1   \n",
      "51-65                       0                0        0         0          0   \n",
      "66+                         0                0        0         0          0   \n",
      "\n",
      "Order Dish Name  Veggie Burger  \n",
      "Age Group                       \n",
      "0-18                         0  \n",
      "19-35                        1  \n",
      "36-50                        1  \n",
      "51-65                        0  \n",
      "66+                          0  \n"
     ]
    }
   ],
   "source": [
    "if 'Age' in final_data.columns and 'Order Dish Name' in final_data.columns:\n",
    "    # Create age groups\n",
    "    age_bins = [0, 18, 35, 50, 65, 100]\n",
    "    age_labels = ['0-18', '19-35', '36-50', '51-65', '66+']\n",
    "    final_data['Age Group'] = pd.cut(final_data['Age'], bins=age_bins, labels=age_labels)\n",
    "\n",
    "    # Analyze order counts by age group\n",
    "    age_group_analysis = final_data.pivot_table(index='Age Group', \n",
    "                                                columns='Order Dish Name', \n",
    "                                                aggfunc='size', fill_value=0)\n",
    "    print(\"Age group analysis:\\n\", age_group_analysis)\n",
    "\n",
    "    # Save to CSV\n",
    "    age_group_analysis.to_csv('Age_Group_Analysis.csv')\n",
    "else:\n",
    "    print(\"Error: Columns 'Age' or 'Order Dish Name' not found in final_data.\")\n"
   ]
  },
  {
   "cell_type": "markdown",
   "id": "388f2b49-d12c-41c8-a7f2-1ba4219bafcc",
   "metadata": {},
   "source": [
    "### we can see that 19-35 is the age that most age groups make the order"
   ]
  },
  {
   "cell_type": "markdown",
   "id": "c21c1cff-9f9b-4e72-896d-00e0f44b1d88",
   "metadata": {},
   "source": [
    "# 4. Regional preferences for dishes"
   ]
  },
  {
   "cell_type": "code",
   "execution_count": 22,
   "id": "74ef21e6-eb07-4bb7-9569-f1b872fbb010",
   "metadata": {},
   "outputs": [
    {
     "name": "stdout",
     "output_type": "stream",
     "text": [
      "Regional preferences:\n",
      " Location       Order Dish Name\n",
      "Austin         Grilled Chicken    1\n",
      "Boston         Spaghetti          1\n",
      "Chicago        Grilled Chicken    1\n",
      "               Pancakes           1\n",
      "               Veggie Burger      1\n",
      "Los Angeles    Caesar Salad       1\n",
      "               Oatmeal            1\n",
      "               Spaghetti          1\n",
      "Miami          Veggie Burger      1\n",
      "New York       Grilled Chicken    1\n",
      "               Pancakes           1\n",
      "               Spaghetti          1\n",
      "San Francisco  Caesar Salad       1\n",
      "               Spaghetti          1\n",
      "Seattle        Caesar Salad       1\n",
      "               Grilled Chicken    1\n",
      "Name: count, dtype: int64\n"
     ]
    }
   ],
   "source": [
    "if 'Location' in final_data.columns and 'Order Dish Name' in final_data.columns:\n",
    "    regional_preferences = final_data.groupby('Location')['Order Dish Name'].value_counts()\n",
    "    print(\"Regional preferences:\\n\", regional_preferences)\n",
    "    regional_preferences.to_csv('Regional_Preferences.csv')\n",
    "else:\n",
    "    print(\"Error: Columns 'Location' or 'Order Dish Name' not found in final_data.\")\n"
   ]
  },
  {
   "cell_type": "markdown",
   "id": "5933a4fe-2a73-41fe-90c1-9d77090cf6e6",
   "metadata": {},
   "source": [
    "# 5. Average order amount by meal type"
   ]
  },
  {
   "cell_type": "code",
   "execution_count": 23,
   "id": "9490eea9-5d16-4bdf-941c-66968c369231",
   "metadata": {},
   "outputs": [
    {
     "name": "stdout",
     "output_type": "stream",
     "text": [
      "Average order amount by meal type:\n",
      " Meal Type_x\n",
      "Breakfast     7.833333\n",
      "Dinner       13.312500\n",
      "Lunch        10.000000\n",
      "Name: Amount (USD), dtype: float64\n"
     ]
    }
   ],
   "source": [
    "if 'Meal Type_x' in final_data.columns and 'Amount (USD)' in final_data.columns:\n",
    "    avg_order_amount = final_data.groupby('Meal Type_x')['Amount (USD)'].mean()\n",
    "    print(\"Average order amount by meal type:\\n\", avg_order_amount)\n",
    "    avg_order_amount.to_csv('Average_Order_Amount_By_Meal.csv')\n",
    "else:\n",
    "    print(\"Error: Columns 'Meal Type_x' or 'Amount (USD)' not found in final_data.\")"
   ]
  },
  {
   "cell_type": "markdown",
   "id": "89b9d585-0774-4efc-a2b3-30e9bd21a175",
   "metadata": {},
   "source": [
    "### from the Average order amount by meal type we can see that dinner has more order than breakfast and lunch "
   ]
  },
  {
   "cell_type": "markdown",
   "id": "97485029-54e9-465f-8825-6caf98c8b1ce",
   "metadata": {},
   "source": [
    "# Visualizations"
   ]
  },
  {
   "cell_type": "markdown",
   "id": "24991e44-1dbb-4dcd-9b0e-6f59c871b680",
   "metadata": {},
   "source": [
    "# Average Order"
   ]
  },
  {
   "cell_type": "code",
   "execution_count": 32,
   "id": "98005405-ec9a-4baa-a875-1d0294b835bc",
   "metadata": {},
   "outputs": [
    {
     "name": "stderr",
     "output_type": "stream",
     "text": [
      "C:\\Users\\ADMIN\\AppData\\Local\\Temp\\ipykernel_15016\\4089549983.py:6: FutureWarning: \n",
      "\n",
      "Passing `palette` without assigning `hue` is deprecated and will be removed in v0.14.0. Assign the `x` variable to `hue` and set `legend=False` for the same effect.\n",
      "\n",
      "  sns.barplot(data=avg_order_amount, x='Meal Type', y='Average Amount (USD)', palette='Blues_d')\n"
     ]
    },
    {
     "data": {
      "image/png": "[encoded data removed]",
      "text/plain": [
       "<Figure size 800x500 with 1 Axes>"
      ]
     },
     "metadata": {},
     "output_type": "display_data"
    }
   ],
   "source": [
    "avg_order_amount = final_data.groupby('Meal Type_x')['Amount (USD)'].mean().reset_index()\n",
    "avg_order_amount.columns = ['Meal Type', 'Average Amount (USD)']  # Rename columns for clarity\n",
    "\n",
    "# Visualization\n",
    "plt.figure(figsize=(8, 5))\n",
    "sns.barplot(data=avg_order_amount, x='Meal Type', y='Average Amount (USD)', palette='Blues_d')\n",
    "plt.title(\"Average Order Amount by Meal Type\")\n",
    "plt.xlabel(\"Meal Type\")\n",
    "plt.ylabel(\"Average Order Amount (USD)\")\n",
    "plt.xticks(rotation=45)\n",
    "plt.tight_layout()\n",
    "plt.show()"
   ]
  },
  {
   "cell_type": "markdown",
   "id": "78798b5f-2d4d-403c-bc36-621e5660963a",
   "metadata": {},
   "source": [
    "# Plot order trends by time of day"
   ]
  },
  {
   "cell_type": "code",
   "execution_count": 33,
   "id": "929a2c7d-981b-461b-b867-55eeba527910",
   "metadata": {},
   "outputs": [
    {
     "data": {
      "image/png": "[encoded data removed]",
      "text/plain": [
       "<Figure size 1000x600 with 1 Axes>"
      ]
     },
     "metadata": {},
     "output_type": "display_data"
    }
   ],
   "source": [
    "if 'Time of Day' in final_data.columns:\n",
    "    plt.figure(figsize=(10, 6))\n",
    "    order_trends_time.plot(kind='bar', color='orange')\n",
    "    plt.title('Order Trends by Time of Day')\n",
    "    plt.xlabel('Time of Day')\n",
    "    plt.ylabel('Number of Orders')\n",
    "    plt.tight_layout()\n",
    "    plt.savefig('Order_Trends_By_Time.png')\n",
    "    plt.show()\n",
    "else:\n",
    "    print(\"Visualization skipped: 'Time of Day' column not found in final_data.\")\n"
   ]
  },
  {
   "cell_type": "code",
   "execution_count": null,
   "id": "69578f00-e833-4a43-80a1-04dde380bb95",
   "metadata": {},
   "outputs": [],
   "source": []
  }
 ],
 "metadata": {
  "kernelspec": {
   "display_name": "Python 3 (ipykernel)",
   "language": "python",
   "name": "python3"
  },
  "language_info": {
   "codemirror_mode": {
    "name": "ipython",
    "version": 3
   },
   "file_extension": ".py",
   "mimetype": "text/x-python",
   "name": "python",
   "nbconvert_exporter": "python",
   "pygments_lexer": "ipython3",
   "version": "3.11.7"
  }
 },
 "nbformat": 4,
 "nbformat_minor": 5
}
